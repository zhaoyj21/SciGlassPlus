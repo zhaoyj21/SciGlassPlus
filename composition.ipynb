{
 "cells": [
  {
   "cell_type": "code",
   "execution_count": 1,
   "id": "948ab968",
   "metadata": {},
   "outputs": [],
   "source": [
    "import numpy as np\n",
    "import pandas as pd"
   ]
  },
  {
   "cell_type": "code",
   "execution_count": 2,
   "id": "328f5e43",
   "metadata": {},
   "outputs": [],
   "source": [
    "excel_file = pd.ExcelFile('SciGlass_Plus_properties.xlsx')\n",
    "df = excel_file.parse('Sheet1')"
   ]
  },
  {
   "cell_type": "code",
   "execution_count": 3,
   "id": "83ee382e",
   "metadata": {},
   "outputs": [
    {
     "name": "stdout",
     "output_type": "stream",
     "text": [
      "0.16342692584593232\n",
      "0.15806246016571066\n",
      "0.1358664363845711\n",
      "0.13579604578563995\n",
      "0.10356422326832548\n",
      "0.13954802259887006\n"
     ]
    }
   ],
   "source": [
    "comp_list = ['SiO2','P2O5','ZrO2','Na2O','Al2O3','Fe2O3','CaO','MgO','K2O','MnO','GeO2','Li2O','Ta2O5','ZnO','SrO','CdO','SnO2','B2O3','La2O3','Ga2O3','Y2O3','TiO2','Nb2O5','PbO','HfO2','WO3','Sb2O3','Bi2O3','BaO','Cr2O3','Cu2O','BeO','CuO','Nd2O3','CeO2','Cs2O','As2O3','Rb2O','MoO3','FeO','Mn2O3','ThO2','Ag2O','TeO2','Tl2O','CoO','In2O3','Sc2O3','NiO','V2O5','As2O5','MnO2','Sm2O3','Gd2O3','Tb2O3','Dy2O3','Ho2O3','Er2O3','Yb2O3','Co3O4','Fe3O4','SnO','Mn3O4','Ce2O3','Pr2O3','CrO3','VO6','TeO3','UO2','Sb2O5','Pr6O11','VO2','Co2O3','Ti2O3','UO3','Eu2O3','Mo2O3','Ni2O3','MoO','PrO2','TbO2','V2O3','SeO2','Lu2O3','GeO','SbO2','U3O8','Mn2O7','HgO','Tm2O3','Nb2O3','PbO2','Tl2O3','Pb3O4','SiO','Sn2O3','Ta2O3','RuO2','Tb4O7','Tb3O7','SeO3','Cr3O4','PdO','MoO2','Rh2O3','TiO','RhO2','ErO2','YbO2','Bi2O5','EuO','Pu2O3','CeO','CrO','BaO2','Au2O3','ReO3','Re2O7']\n",
    "df[comp_list] = df[comp_list].apply(pd.to_numeric, errors='coerce')\n",
    "non_null_count = df[comp_list].notna().sum(axis=1)\n",
    "for i in range(2019,2025,1):\n",
    "    filtered_df1 = df[(df[\"Al2O3\"] > 0) & (df[\"Year\"] == i)& (non_null_count < 5)]\n",
    "    filtered_df2 = df[(df[comp_list] > 0).any(axis=1) & (df[\"Year\"] == i)& (non_null_count < 5)]\n",
    "    # ratio = filtered_df1.shape[0]/filtered_df2.shape[0]\n",
    "    ratio = filtered_df1.shape[0]/filtered_df2.shape[0]\n",
    "    print(ratio)"
   ]
  },
  {
   "cell_type": "code",
   "execution_count": 4,
   "id": "700784bf",
   "metadata": {},
   "outputs": [
    {
     "name": "stdout",
     "output_type": "stream",
     "text": [
      "5\n",
      "0\n",
      "0\n",
      "2\n",
      "0\n",
      "5\n"
     ]
    }
   ],
   "source": [
    "for i in range(2019,2025,1):\n",
    "    filtered_df1 = df[(df[\"TeO2\"] > 0) & (df[\"Year\"] == i)& (non_null_count < 5) & (df[\"Er2O3\"] > 0)& (df[\"ZnO\"] > 0) & (df[\"Na2O\"] > 0)]\n",
    "    #filtered_df2 = df[(df[comp_list] > 0).any(axis=1) & (df[\"Year\"] == i)& (non_null_count < 5)]\n",
    "    # ratio = filtered_df1.shape[0]/filtered_df2.shape[0]\n",
    "    ratio = filtered_df1.shape[0]\n",
    "    print(ratio)"
   ]
  },
  {
   "cell_type": "code",
   "execution_count": 5,
   "id": "61acb6e7",
   "metadata": {},
   "outputs": [],
   "source": [
    "comp_list = ['SiO2','P2O5','ZrO2','Na2O','Al2O3','Fe2O3','CaO','MgO','K2O','MnO','GeO2','Li2O','Ta2O5','ZnO','SrO','CdO','SnO2','B2O3','La2O3','Ga2O3','Y2O3','TiO2','Nb2O5','PbO','HfO2','WO3','Sb2O3','Bi2O3','BaO','Cr2O3','Cu2O','BeO','CuO','Nd2O3','CeO2','Cs2O','As2O3','Rb2O','MoO3','FeO','Mn2O3','ThO2','Ag2O','TeO2','Tl2O','CoO','In2O3','Sc2O3','NiO','V2O5','As2O5','MnO2','Sm2O3','Gd2O3','Tb2O3','Dy2O3','Ho2O3','Er2O3','Yb2O3','Co3O4','Fe3O4','SnO','Mn3O4','Ce2O3','Pr2O3','CrO3','VO6','TeO3','UO2','Sb2O5','Pr6O11','VO2','Co2O3','Ti2O3','UO3','Eu2O3','Mo2O3','Ni2O3','MoO','PrO2','TbO2','V2O3','SeO2','Lu2O3','GeO','SbO2','U3O8','Mn2O7','HgO','Tm2O3','Nb2O3','PbO2','Tl2O3','Pb3O4','SiO','Sn2O3','Ta2O3','RuO2','Tb4O7','Tb3O7','SeO3','Cr3O4','PdO','MoO2','Rh2O3','TiO','RhO2','ErO2','YbO2','Bi2O5','EuO','Pu2O3','CeO','CrO','BaO2','Au2O3','ReO3','Re2O7']\n"
   ]
  },
  {
   "cell_type": "code",
   "execution_count": 6,
   "id": "edcd8baf",
   "metadata": {},
   "outputs": [],
   "source": [
    "roi = ['SiO2','B2O3','Al2O3','CaO','Na2O','MgO','ZnO','P2O5','Li2O','BaO']"
   ]
  },
  {
   "cell_type": "code",
   "execution_count": 7,
   "id": "88c2787e",
   "metadata": {},
   "outputs": [],
   "source": [
    "totalcount = 0\n",
    "for oxide in roi:\n",
    "    totalcount+=df[oxide].describe()['count']"
   ]
  },
  {
   "cell_type": "code",
   "execution_count": 8,
   "id": "3b0241f5",
   "metadata": {},
   "outputs": [
    {
     "name": "stdout",
     "output_type": "stream",
     "text": [
      "0.14098230727988997\n",
      "0.183267675237185\n",
      "0.11142450872980722\n",
      "0.0930091610527052\n",
      "0.11352245973099606\n",
      "0.06305508286906454\n",
      "0.08732138278281545\n",
      "0.09303247161938506\n",
      "0.05927877106692464\n",
      "0.05510617963122683\n"
     ]
    }
   ],
   "source": [
    "for oxide in roi:\n",
    "    print(df[oxide].describe()['count']/totalcount)"
   ]
  },
  {
   "cell_type": "code",
   "execution_count": 9,
   "id": "1422d7fe",
   "metadata": {},
   "outputs": [
    {
     "data": {
      "text/plain": [
       "count    3991.000000\n",
       "mean       31.958532\n",
       "std        24.421970\n",
       "min         0.000000\n",
       "25%         4.000000\n",
       "50%        38.800000\n",
       "75%        53.820000\n",
       "max       100.000000\n",
       "Name: P2O5, dtype: float64"
      ]
     },
     "execution_count": 9,
     "metadata": {},
     "output_type": "execute_result"
    }
   ],
   "source": [
    "df['P2O5'].describe()"
   ]
  }
 ],
 "metadata": {
  "kernelspec": {
   "display_name": "Python 3 (ipykernel)",
   "language": "python",
   "name": "python3"
  },
  "language_info": {
   "codemirror_mode": {
    "name": "ipython",
    "version": 3
   },
   "file_extension": ".py",
   "mimetype": "text/x-python",
   "name": "python",
   "nbconvert_exporter": "python",
   "pygments_lexer": "ipython3",
   "version": "3.11.4"
  }
 },
 "nbformat": 4,
 "nbformat_minor": 5
}
